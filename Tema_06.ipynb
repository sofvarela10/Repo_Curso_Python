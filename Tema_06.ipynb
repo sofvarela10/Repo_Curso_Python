{
  "nbformat": 4,
  "nbformat_minor": 0,
  "metadata": {
    "colab": {
      "name": "Tema_06.ipynb",
      "provenance": [],
      "authorship_tag": "ABX9TyNjpQftpKP+EFir0K2OrrcI",
      "include_colab_link": true
    },
    "kernelspec": {
      "name": "python3",
      "display_name": "Python 3"
    }
  },
  "cells": [
    {
      "cell_type": "markdown",
      "metadata": {
        "id": "view-in-github",
        "colab_type": "text"
      },
      "source": [
        "<a href=\"https://colab.research.google.com/github/sofvarela10/Repo_Curso_Python/blob/main/Tema_06.ipynb\" target=\"_parent\"><img src=\"https://colab.research.google.com/assets/colab-badge.svg\" alt=\"Open In Colab\"/></a>"
      ]
    },
    {
      "cell_type": "markdown",
      "metadata": {
        "id": "O3SsmGyNirdq"
      },
      "source": [
        "#Operadores de asignación"
      ]
    },
    {
      "cell_type": "code",
      "metadata": {
        "colab": {
          "base_uri": "https://localhost:8080/"
        },
        "id": "YMRTCczgs5Op",
        "outputId": "5a589643-6121-4d65-be2d-bf4eb9dcc608"
      },
      "source": [
        "A = 5\r\n",
        "#A = A + 3\r\n",
        "\r\n",
        "#Suma en asignación\r\n",
        "\r\n",
        "A += 3  #Equivale a A = A + 3\r\n",
        "print (A)"
      ],
      "execution_count": 4,
      "outputs": [
        {
          "output_type": "stream",
          "text": [
            "8\n"
          ],
          "name": "stdout"
        }
      ]
    },
    {
      "cell_type": "code",
      "metadata": {
        "colab": {
          "base_uri": "https://localhost:8080/"
        },
        "id": "IjYuyaP9tR7G",
        "outputId": "f24ce110-b4df-4b71-c28a-3e7fade69213"
      },
      "source": [
        "#Resta en asignación\r\n",
        "\r\n",
        "A= 8\r\n",
        "A -=2 #Equivale a A= A-2\r\n",
        "print (A)"
      ],
      "execution_count": 12,
      "outputs": [
        {
          "output_type": "stream",
          "text": [
            "6\n"
          ],
          "name": "stdout"
        }
      ]
    },
    {
      "cell_type": "code",
      "metadata": {
        "colab": {
          "base_uri": "https://localhost:8080/"
        },
        "id": "c0vvHCKmtgUN",
        "outputId": "be1bdcda-73fc-4671-ff6e-03a8b9b8dbca"
      },
      "source": [
        "#Multiplicación en asignación\r\n",
        "A = 6\r\n",
        "\r\n",
        "A *= 2   #Equivale a A=A*2\r\n",
        "print (A)"
      ],
      "execution_count": 16,
      "outputs": [
        {
          "output_type": "stream",
          "text": [
            "12\n"
          ],
          "name": "stdout"
        }
      ]
    },
    {
      "cell_type": "code",
      "metadata": {
        "colab": {
          "base_uri": "https://localhost:8080/"
        },
        "id": "wnA6bpamts5z",
        "outputId": "56cf6778-4450-446f-b621-c7d89507fbf5"
      },
      "source": [
        "#División en asignación \r\n",
        "\r\n",
        "A=12\r\n",
        "\r\n",
        "A /= 4    #Equivale a A=A/4\r\n",
        "print (A)"
      ],
      "execution_count": 21,
      "outputs": [
        {
          "output_type": "stream",
          "text": [
            "3.0\n"
          ],
          "name": "stdout"
        }
      ]
    },
    {
      "cell_type": "code",
      "metadata": {
        "colab": {
          "base_uri": "https://localhost:8080/"
        },
        "id": "4CRKa5HmuNDy",
        "outputId": "f2799f69-9d39-4b55-e71c-96aff5b1360e"
      },
      "source": [
        "#Potencia en asignación\r\n",
        "\r\n",
        "A=3.0\r\n",
        "\r\n",
        "A **= 3 #Equivale a A = A ** 3\r\n",
        "A"
      ],
      "execution_count": 24,
      "outputs": [
        {
          "output_type": "execute_result",
          "data": {
            "text/plain": [
              "27.0"
            ]
          },
          "metadata": {
            "tags": []
          },
          "execution_count": 24
        }
      ]
    },
    {
      "cell_type": "code",
      "metadata": {
        "colab": {
          "base_uri": "https://localhost:8080/"
        },
        "id": "VOxnYWoNuaPF",
        "outputId": "7b355564-e2fd-4ef3-ce98-e27117ff7e37"
      },
      "source": [
        "#Operador módulo \r\n",
        "\r\n",
        "# Su operador es % \r\n",
        "#Es una división que da como resultado el residuo\r\n",
        "\r\n",
        "B = 10 % 4\r\n",
        "print(B)"
      ],
      "execution_count": 29,
      "outputs": [
        {
          "output_type": "stream",
          "text": [
            "2\n"
          ],
          "name": "stdout"
        }
      ]
    },
    {
      "cell_type": "code",
      "metadata": {
        "colab": {
          "base_uri": "https://localhost:8080/"
        },
        "id": "q1xcPB-mvITE",
        "outputId": "28c15682-bb56-44e8-8270-fbe760b2f03d"
      },
      "source": [
        "#Módulo en asignación\r\n",
        "\r\n",
        "A= 20\r\n",
        "\r\n",
        "A %= 6 #Equivale a A=A%6\r\n",
        "\r\n",
        "print(A)"
      ],
      "execution_count": 32,
      "outputs": [
        {
          "output_type": "stream",
          "text": [
            "2\n"
          ],
          "name": "stdout"
        }
      ]
    },
    {
      "cell_type": "markdown",
      "metadata": {
        "id": "Yh1ZerCKvYx2"
      },
      "source": [
        "#Operadores de comparación"
      ]
    },
    {
      "cell_type": "code",
      "metadata": {
        "colab": {
          "base_uri": "https://localhost:8080/"
        },
        "id": "1pYcy0-mvat0",
        "outputId": "60eed714-dab9-4f7e-9095-d3e6fc317e56"
      },
      "source": [
        "'''\r\n",
        "and, or, not, >, <, ==, >=, <=, !=\r\n",
        "\r\n",
        "1. ()\r\n",
        "2. **\r\n",
        "3. *, /, %, not\r\n",
        "4. +, -, and\r\n",
        "5. >, <, ==, >=, <=, !=, or\r\n",
        "\r\n",
        "\r\n",
        "and: si ambas expresiones tienen el valor True (cierto) da como resultado True\r\n",
        "or: con que mínimo una expresion tenga el valor True (cierto) da como resultado True\r\n",
        "not: cambia el valor de True (cierto) a False (falso) y viceversa \r\n",
        "'''\r\n",
        "\r\n",
        "A = 1\r\n",
        "B = 2\r\n",
        "C = 3\r\n",
        "\r\n",
        "D = (A < C) and (C > B)\r\n",
        "print (D)\r\n",
        "\r\n",
        "D_2 = (A > C) and (C > B)\r\n",
        "print (D_2)\r\n",
        "print (\"\\n\")\r\n",
        "\r\n",
        "E = (A < C) or (C > B)\r\n",
        "print (E)\r\n",
        "\r\n",
        "E_2 = (A > C) or (C < B)\r\n",
        "print (E_2)\r\n",
        "print (\"\\n\")\r\n",
        "\r\n",
        "F = not ((A > C) or (C < B))\r\n",
        "print (F)\r\n"
      ],
      "execution_count": 46,
      "outputs": [
        {
          "output_type": "stream",
          "text": [
            "True\n",
            "False\n",
            "\n",
            "\n",
            "True\n",
            "False\n",
            "\n",
            "\n",
            "True\n"
          ],
          "name": "stdout"
        }
      ]
    },
    {
      "cell_type": "code",
      "metadata": {
        "colab": {
          "base_uri": "https://localhost:8080/"
        },
        "id": "Qe374Nsixxoe",
        "outputId": "f492519f-cc60-4714-e96d-ad39457be608"
      },
      "source": [
        "#Operador \"diferente\" !=\r\n",
        "\r\n",
        "A = 1\r\n",
        "B = 2\r\n",
        "C = 3\r\n",
        "\r\n",
        "#E = A != 2    # Como A es diferente de dos el operador \"Diferente\" da como resultado el valor de True\r\n",
        "\r\n",
        "E = A != 1     \r\n",
        "print (E)"
      ],
      "execution_count": 55,
      "outputs": [
        {
          "output_type": "stream",
          "text": [
            "False\n"
          ],
          "name": "stdout"
        }
      ]
    },
    {
      "cell_type": "code",
      "metadata": {
        "colab": {
          "base_uri": "https://localhost:8080/"
        },
        "id": "jQJ4TJOryD0C",
        "outputId": "2b58d185-16e1-408e-ec15-01bbfae9b5f5"
      },
      "source": [
        "#Operador \"igualdad\" ==\r\n",
        "\r\n",
        "F = A == 1\r\n",
        "print (F) # Como A es igual que uno el operador \"igualdad\" da como resultado el valor de True"
      ],
      "execution_count": 56,
      "outputs": [
        {
          "output_type": "stream",
          "text": [
            "True\n"
          ],
          "name": "stdout"
        }
      ]
    },
    {
      "cell_type": "code",
      "metadata": {
        "id": "7XZQdaNXyXhZ"
      },
      "source": [
        ""
      ],
      "execution_count": null,
      "outputs": []
    }
  ]
}