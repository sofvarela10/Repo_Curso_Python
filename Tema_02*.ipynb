{
  "nbformat": 4,
  "nbformat_minor": 0,
  "metadata": {
    "colab": {
      "name": "Untitled0.ipynb",
      "provenance": [],
      "authorship_tag": "ABX9TyPoiS+S2emkAhDBKplJpJvA",
      "include_colab_link": true
    },
    "kernelspec": {
      "name": "python3",
      "display_name": "Python 3"
    }
  },
  "cells": [
    {
      "cell_type": "markdown",
      "metadata": {
        "id": "view-in-github",
        "colab_type": "text"
      },
      "source": [
        "<a href=\"https://colab.research.google.com/github/sofvarela10/Repo_Curso_Python/blob/main/Tema_02*.ipynb\" target=\"_parent\"><img src=\"https://colab.research.google.com/assets/colab-badge.svg\" alt=\"Open In Colab\"/></a>"
      ]
    },
    {
      "cell_type": "markdown",
      "metadata": {
        "id": "o0A_DACa_vKd"
      },
      "source": [
        "Programa ejemplo"
      ]
    },
    {
      "cell_type": "code",
      "metadata": {
        "colab": {
          "base_uri": "https://localhost:8080/"
        },
        "id": "vnwVSFig_8rV",
        "outputId": "9f0ebe24-93b5-4b9e-c891-cd3892b3913d"
      },
      "source": [
        "# Creando una variable string \r\n",
        "Mensaje = \"Hola\"\r\n",
        "\r\n",
        "#Imprimiendo la variable\r\n",
        "#print (Mensaje)\r\n",
        "\r\n",
        "print(\"\\t¿Cómo estas? \\n \\tEstoy bien\", Mensaje)\r\n",
        "#\\n es un salto de linea\r\n",
        "#\\t es un tabulador"
      ],
      "execution_count": 27,
      "outputs": [
        {
          "output_type": "stream",
          "text": [
            "\t¿Cómo estas? \n",
            " \tEstoy bien Hola\n"
          ],
          "name": "stdout"
        }
      ]
    },
    {
      "cell_type": "code",
      "metadata": {
        "colab": {
          "base_uri": "https://localhost:8080/"
        },
        "id": "LY6zKKJRCSCK",
        "outputId": "289ef11c-9165-4113-fa7f-4b8dadaa56db"
      },
      "source": [
        "#Concatenación de strings\r\n",
        "M_1= \"Estoy\"\r\n",
        "M_2=\" dando\" #tengo que agregar el espacio despues de la \"\" para que se imprima\r\n",
        "M_3=\"una clase\"\r\n",
        "M_total=M_1 + M_2 + M_3\r\n",
        "\r\n",
        "print(M_total)\r\n",
        "\r\n",
        "print(M_1 + M_2 + M_3 + \" de Python\")\r\n"
      ],
      "execution_count": 22,
      "outputs": [
        {
          "output_type": "stream",
          "text": [
            "Estoy dandouna clase\n",
            "Estoy dandouna clase de Python\n"
          ],
          "name": "stdout"
        }
      ]
    },
    {
      "cell_type": "code",
      "metadata": {
        "colab": {
          "base_uri": "https://localhost:8080/"
        },
        "id": "MI88FW2yEcSP",
        "outputId": "19441402-fb13-4123-c91d-a12eb6237484"
      },
      "source": [
        "Numero_1 = \"1\"\r\n",
        "Numero_2 = \"2\"\r\n",
        "Numero_3 = Numero_1 + Numero_2\r\n",
        "\r\n",
        "print(Numero_3)\r\n",
        "\r\n",
        "#Son caracteres, no números. NO HAY QUE HACER ESTO"
      ],
      "execution_count": 28,
      "outputs": [
        {
          "output_type": "stream",
          "text": [
            "12\n"
          ],
          "name": "stdout"
        }
      ]
    },
    {
      "cell_type": "code",
      "metadata": {
        "colab": {
          "base_uri": "https://localhost:8080/"
        },
        "id": "1-9UpUb_Eqo1",
        "outputId": "14c9a26d-a492-4328-c849-8621ae35d7ad"
      },
      "source": [
        "#Cómo hacer que el usuario agregue una variable\r\n",
        "\r\n",
        "print (\"¿Cuál es tu nombre?\")\r\n",
        "\r\n",
        "#Solicitando al usuario un string\r\n",
        "\r\n",
        "Nombre = input()\r\n",
        "\r\n",
        "#print(Nombre)\r\n",
        "\r\n",
        "#Solicitando un string al usuario mediante un mensaje \r\n",
        "Apellido=input(\"¿Cuál es tu apellido? \")\r\n",
        "\r\n",
        "print (\"Mi nombre es\", Nombre, Apellido)"
      ],
      "execution_count": 30,
      "outputs": [
        {
          "output_type": "stream",
          "text": [
            "¿Cuál es tu nombre?\n",
            "Ana Sofi \n",
            "¿Cuál es tu apellido? Varela\n",
            "Mi nombre es Ana Sofi  Varela\n"
          ],
          "name": "stdout"
        }
      ]
    },
    {
      "cell_type": "code",
      "metadata": {
        "colab": {
          "base_uri": "https://localhost:8080/"
        },
        "id": "Xt1eMi6cE9M1",
        "outputId": "76eba775-138a-4b1c-cf03-12ed3089c453"
      },
      "source": [
        "Nom_1=input(\"¿Cuál es tu primer nombre? \")\r\n",
        "\r\n",
        "Nom_2=input(\"¿Cuál es tu segundo nombre? \")\r\n",
        "\r\n",
        "Ape_1=input(\"¿Cuál es tu primer apellido? \")\r\n",
        "\r\n",
        "Ape_2=input(\"¿Cuál es tu segundo apellido? \")\r\n",
        "\r\n",
        "print(\"\\n Mi nombre es \" + Nom_1 + \" \" + Nom_2 + \" \" + Ape_1 + \" \" + Ape_2 + \" \")"
      ],
      "execution_count": 41,
      "outputs": [
        {
          "output_type": "stream",
          "text": [
            "¿Cuál es tu primer nombre? Ana\n",
            "¿Cuál es tu segundo nombre? Sofi\n",
            "¿Cuál es tu primer apellido? Varela\n",
            "¿Cuál es tu segundo apellido? Llamas\n",
            "\n",
            " Mi nombre es Ana Sofi Varela Llamas \n"
          ],
          "name": "stdout"
        }
      ]
    },
    {
      "cell_type": "code",
      "metadata": {
        "id": "BCQnCK7sGaZV"
      },
      "source": [
        ""
      ],
      "execution_count": null,
      "outputs": []
    }
  ]
}