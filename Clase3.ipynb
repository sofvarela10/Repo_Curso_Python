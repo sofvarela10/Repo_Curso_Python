{
  "nbformat": 4,
  "nbformat_minor": 0,
  "metadata": {
    "colab": {
      "name": "Untitled1.ipynb",
      "provenance": [],
      "authorship_tag": "ABX9TyN+bFpcHb0ZlJoschZqp3hl",
      "include_colab_link": true
    },
    "kernelspec": {
      "name": "python3",
      "display_name": "Python 3"
    }
  },
  "cells": [
    {
      "cell_type": "markdown",
      "metadata": {
        "id": "view-in-github",
        "colab_type": "text"
      },
      "source": [
        "<a href=\"https://colab.research.google.com/github/sofvarela10/Repo_Curso_Python/blob/main/Clase3.ipynb\" target=\"_parent\"><img src=\"https://colab.research.google.com/assets/colab-badge.svg\" alt=\"Open In Colab\"/></a>"
      ]
    },
    {
      "cell_type": "markdown",
      "metadata": {
        "id": "kw5lC4fpDIKs"
      },
      "source": [
        "Variables"
      ]
    },
    {
      "cell_type": "code",
      "metadata": {
        "colab": {
          "base_uri": "https://localhost:8080/"
        },
        "id": "yYxAoGnSC3gz",
        "outputId": "deba8c61-e97c-4ba9-953f-615eaf66f7e7"
      },
      "source": [
        "#VARIABLES\r\n",
        "\r\n",
        "numero = 17\r\n",
        "decimal = 0.7\r\n",
        "texto= \"Texto\"\r\n",
        "booleanos = True\r\n",
        "\r\n",
        "print(numero)\r\n",
        "print(type(numero))\r\n",
        "\r\n",
        "print(decimal)\r\n",
        "print(type(decimal))\r\n",
        "\r\n",
        "print(texto)\r\n",
        "print(type(texto))\r\n",
        "\r\n",
        "print(booleanos)\r\n",
        "print(type(booleanos))\r\n"
      ],
      "execution_count": 5,
      "outputs": [
        {
          "output_type": "stream",
          "text": [
            "17\n",
            "<class 'int'>\n",
            "0.7\n",
            "<class 'float'>\n",
            "Texto\n",
            "<class 'str'>\n",
            "True\n",
            "<class 'bool'>\n"
          ],
          "name": "stdout"
        }
      ]
    },
    {
      "cell_type": "code",
      "metadata": {
        "colab": {
          "base_uri": "https://localhost:8080/"
        },
        "id": "eZ8thelLDsaf",
        "outputId": "0749618b-0665-4404-ab9e-99451801089c"
      },
      "source": [
        "algo9=4\r\n",
        "alg_=7\r\n",
        "\r\n",
        "print(algo9)"
      ],
      "execution_count": 7,
      "outputs": [
        {
          "output_type": "stream",
          "text": [
            "4\n"
          ],
          "name": "stdout"
        }
      ]
    },
    {
      "cell_type": "code",
      "metadata": {
        "colab": {
          "base_uri": "https://localhost:8080/"
        },
        "id": "Q3gwz-DHEPgp",
        "outputId": "f88b12d9-ed98-48bc-dd3d-0006642ddd82"
      },
      "source": [
        "tupla = (\"hola\", 2)                   #Es inmutable. O sea que no puedes modificar \r\n",
        "                                      #sus valores ya declarados\r\n",
        "\r\n",
        "lista = [6,7,3,1,6]                   #Los valores son dinámicos y ordenados, \r\n",
        "                                      #si importa donde se colocan\r\n",
        "\r\n",
        "set_ = {1,2,3,5,1,1}                  #No le llamo set porque es la función y se \r\n",
        "                                      #puede confundir con la variable\r\n",
        "                                      #Al imprimir set_ sale : {1, 2, 3, 5}. \r\n",
        "                                      #Sólo coloca 1 una vez, ya que una característica \r\n",
        "                                      #del set es que no se repiten los valores que tiene dentro.\r\n",
        "\r\n",
        "diccionario = {2:2, 1:5}              #Puedo guardar dos números. Define entre una \r\n",
        "                                      #llave que tiene un valor asociado y va en pares. \r\n",
        "\r\n",
        "print(tupla)\r\n",
        "print(type(tupla))\r\n",
        "\r\n",
        "print(lista)\r\n",
        "print(type(lista))\r\n",
        "\r\n",
        "print(set_)\r\n",
        "print(type(set_))\r\n",
        "\r\n",
        "print(diccionario)\r\n",
        "print(type(diccionario))"
      ],
      "execution_count": 8,
      "outputs": [
        {
          "output_type": "stream",
          "text": [
            "('hola', 2)\n",
            "<class 'tuple'>\n",
            "[6, 7, 3, 1, 6]\n",
            "<class 'list'>\n",
            "{1, 2, 3, 5}\n",
            "<class 'set'>\n",
            "{2: 2, 1: 5}\n",
            "<class 'dict'>\n"
          ],
          "name": "stdout"
        }
      ]
    },
    {
      "cell_type": "code",
      "metadata": {
        "id": "kAjzmeYfFwKj"
      },
      "source": [
        ""
      ],
      "execution_count": null,
      "outputs": []
    }
  ]
}