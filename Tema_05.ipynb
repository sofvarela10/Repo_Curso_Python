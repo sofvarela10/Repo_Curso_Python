{
  "nbformat": 4,
  "nbformat_minor": 0,
  "metadata": {
    "colab": {
      "name": "Tema_05.ipynb",
      "provenance": [],
      "authorship_tag": "ABX9TyMfg+kREfsx+9KJNqWBHWAR",
      "include_colab_link": true
    },
    "kernelspec": {
      "name": "python3",
      "display_name": "Python 3"
    }
  },
  "cells": [
    {
      "cell_type": "markdown",
      "metadata": {
        "id": "view-in-github",
        "colab_type": "text"
      },
      "source": [
        "<a href=\"https://colab.research.google.com/github/sofvarela10/Repo_Curso_Python/blob/main/Tema_05.ipynb\" target=\"_parent\"><img src=\"https://colab.research.google.com/assets/colab-badge.svg\" alt=\"Open In Colab\"/></a>"
      ]
    },
    {
      "cell_type": "markdown",
      "metadata": {
        "id": "oW2ZE9_KluEO"
      },
      "source": [
        "Listas, tuplas y diccionarios\r\n"
      ]
    },
    {
      "cell_type": "markdown",
      "metadata": {
        "id": "5hPCUbmjm_XY"
      },
      "source": [
        "#Índices en listas"
      ]
    },
    {
      "cell_type": "code",
      "metadata": {
        "colab": {
          "base_uri": "https://localhost:8080/"
        },
        "id": "oYbODYDIl63a",
        "outputId": "96bd20ad-bde1-42aa-fc30-8650397a5dbe"
      },
      "source": [
        "A = [89,2,3,4,5]\r\n",
        "A[4] #imprimimos la posición que queramos, empieza en cero"
      ],
      "execution_count": null,
      "outputs": [
        {
          "output_type": "execute_result",
          "data": {
            "text/plain": [
              "5"
            ]
          },
          "metadata": {
            "tags": []
          },
          "execution_count": 5
        }
      ]
    },
    {
      "cell_type": "code",
      "metadata": {
        "colab": {
          "base_uri": "https://localhost:8080/"
        },
        "id": "kuArxO1mmR2z",
        "outputId": "74264958-15c1-4491-8a74-ad200129a4aa"
      },
      "source": [
        "A[0]=1\r\n",
        "A"
      ],
      "execution_count": null,
      "outputs": [
        {
          "output_type": "execute_result",
          "data": {
            "text/plain": [
              "[1, 2, 3, 4, 5]"
            ]
          },
          "metadata": {
            "tags": []
          },
          "execution_count": 7
        }
      ]
    },
    {
      "cell_type": "code",
      "metadata": {
        "colab": {
          "base_uri": "https://localhost:8080/"
        },
        "id": "MIw-WG2Smgbm",
        "outputId": "a5b5918a-6fd7-4e54-f769-10d01c3b6424"
      },
      "source": [
        "A[4]=109\r\n",
        "A"
      ],
      "execution_count": null,
      "outputs": [
        {
          "output_type": "execute_result",
          "data": {
            "text/plain": [
              "[1, 2, 3, 4, 109]"
            ]
          },
          "metadata": {
            "tags": []
          },
          "execution_count": 9
        }
      ]
    },
    {
      "cell_type": "markdown",
      "metadata": {
        "id": "k20Yigp4mw0r"
      },
      "source": [
        "#Añadir elementos a listas"
      ]
    },
    {
      "cell_type": "code",
      "metadata": {
        "colab": {
          "base_uri": "https://localhost:8080/"
        },
        "id": "x2F4nF07mi4K",
        "outputId": "2e9c0868-5a1b-45d5-c762-ac86925297c9"
      },
      "source": [
        "B= [1,2,3]\r\n",
        "B"
      ],
      "execution_count": null,
      "outputs": [
        {
          "output_type": "execute_result",
          "data": {
            "text/plain": [
              "[1, 2, 3]"
            ]
          },
          "metadata": {
            "tags": []
          },
          "execution_count": 18
        }
      ]
    },
    {
      "cell_type": "code",
      "metadata": {
        "colab": {
          "base_uri": "https://localhost:8080/"
        },
        "id": "nUO0L-6onOYM",
        "outputId": "fa4ef97f-f043-4cd2-f55d-de9cfab7a137"
      },
      "source": [
        "B.append(4)\r\n",
        "B"
      ],
      "execution_count": null,
      "outputs": [
        {
          "output_type": "execute_result",
          "data": {
            "text/plain": [
              "[1, 2, 3, 4]"
            ]
          },
          "metadata": {
            "tags": []
          },
          "execution_count": 19
        }
      ]
    },
    {
      "cell_type": "code",
      "metadata": {
        "colab": {
          "base_uri": "https://localhost:8080/"
        },
        "id": "E_59M3SSnUKQ",
        "outputId": "7864d8e8-68d8-47c4-a184-bed60b9ba504"
      },
      "source": [
        "C=[]\r\n",
        "C"
      ],
      "execution_count": null,
      "outputs": [
        {
          "output_type": "execute_result",
          "data": {
            "text/plain": [
              "[]"
            ]
          },
          "metadata": {
            "tags": []
          },
          "execution_count": 32
        }
      ]
    },
    {
      "cell_type": "code",
      "metadata": {
        "colab": {
          "base_uri": "https://localhost:8080/"
        },
        "id": "_XsBSLZrnbuZ",
        "outputId": "04847335-1ada-4393-fc60-d44389bdb4da"
      },
      "source": [
        "C.append([1,2,3])\r\n",
        "C"
      ],
      "execution_count": null,
      "outputs": [
        {
          "output_type": "execute_result",
          "data": {
            "text/plain": [
              "[[1, 2, 3]]"
            ]
          },
          "metadata": {
            "tags": []
          },
          "execution_count": 33
        }
      ]
    },
    {
      "cell_type": "code",
      "metadata": {
        "colab": {
          "base_uri": "https://localhost:8080/"
        },
        "id": "7BfPKKyMnhMx",
        "outputId": "d0918577-d498-4662-967a-f1e15b4ad82a"
      },
      "source": [
        "C.append([4,5,6])\r\n",
        "C.append([7,8,9])\r\n",
        "C"
      ],
      "execution_count": null,
      "outputs": [
        {
          "output_type": "execute_result",
          "data": {
            "text/plain": [
              "[[1, 2, 3], [4, 5, 6], [7, 8, 9]]"
            ]
          },
          "metadata": {
            "tags": []
          },
          "execution_count": 34
        }
      ]
    },
    {
      "cell_type": "markdown",
      "metadata": {
        "id": "_9wgVK8hoCmi"
      },
      "source": [
        "#Operaciones a listas"
      ]
    },
    {
      "cell_type": "code",
      "metadata": {
        "colab": {
          "base_uri": "https://localhost:8080/"
        },
        "id": "LDvloVbeoGxM",
        "outputId": "7f78e8ca-5442-4e7c-b390-2fc21f34a619"
      },
      "source": [
        "#Imprimimos el lugar del número que queramos en un vector en una posición x\r\n",
        "\r\n",
        "print(C[2][2])"
      ],
      "execution_count": null,
      "outputs": [
        {
          "output_type": "stream",
          "text": [
            "9\n"
          ],
          "name": "stdout"
        }
      ]
    },
    {
      "cell_type": "code",
      "metadata": {
        "colab": {
          "base_uri": "https://localhost:8080/"
        },
        "id": "ESWu70JuomQs",
        "outputId": "c78ac7ae-fa06-4a89-fdb5-70723a04cdec"
      },
      "source": [
        "D=[1,2,3,4,5,6,7,8,9,10]\r\n",
        "D"
      ],
      "execution_count": null,
      "outputs": [
        {
          "output_type": "execute_result",
          "data": {
            "text/plain": [
              "[1, 2, 3, 4, 5, 6, 7, 8, 9, 10]"
            ]
          },
          "metadata": {
            "tags": []
          },
          "execution_count": 44
        }
      ]
    },
    {
      "cell_type": "code",
      "metadata": {
        "colab": {
          "base_uri": "https://localhost:8080/"
        },
        "id": "k9h9m7AipHbP",
        "outputId": "cb2b1da7-3b09-466d-93aa-31ae6706a79f"
      },
      "source": [
        "Suma = sum(D)  #Está sumando cada una de las posiciones del vector\r\n",
        "Suma"
      ],
      "execution_count": null,
      "outputs": [
        {
          "output_type": "execute_result",
          "data": {
            "text/plain": [
              "55"
            ]
          },
          "metadata": {
            "tags": []
          },
          "execution_count": 42
        }
      ]
    },
    {
      "cell_type": "code",
      "metadata": {
        "colab": {
          "base_uri": "https://localhost:8080/"
        },
        "id": "p7cvsirdpfRK",
        "outputId": "97f25533-e1e9-46cb-8230-78b1ef44ac79"
      },
      "source": [
        "#Calcular la longitud\r\n",
        "\r\n",
        "Longitud=len(D)\r\n",
        "Longitud"
      ],
      "execution_count": null,
      "outputs": [
        {
          "output_type": "execute_result",
          "data": {
            "text/plain": [
              "10"
            ]
          },
          "metadata": {
            "tags": []
          },
          "execution_count": 46
        }
      ]
    },
    {
      "cell_type": "code",
      "metadata": {
        "colab": {
          "base_uri": "https://localhost:8080/"
        },
        "id": "yIckojzUpsJK",
        "outputId": "5aeccaa3-2d99-4044-eb02-ea6b287d2fe2"
      },
      "source": [
        "#Calcular el promedio \r\n",
        "\r\n",
        "Promedio =sum(D)/len(D)\r\n",
        "Promedio"
      ],
      "execution_count": null,
      "outputs": [
        {
          "output_type": "execute_result",
          "data": {
            "text/plain": [
              "5.5"
            ]
          },
          "metadata": {
            "tags": []
          },
          "execution_count": 47
        }
      ]
    },
    {
      "cell_type": "code",
      "metadata": {
        "colab": {
          "base_uri": "https://localhost:8080/"
        },
        "id": "XQv1kICOpzFx",
        "outputId": "a75430ac-46d5-4501-e730-98a41afbdeea"
      },
      "source": [
        "#Calculamos el promedio con una función automática, llamando a un módulo \r\n",
        "\r\n",
        "import statistics as st\r\n",
        "Promedio_2=st.mean(D)\r\n",
        "Promedio_2"
      ],
      "execution_count": null,
      "outputs": [
        {
          "output_type": "execute_result",
          "data": {
            "text/plain": [
              "5.5"
            ]
          },
          "metadata": {
            "tags": []
          },
          "execution_count": 48
        }
      ]
    },
    {
      "cell_type": "code",
      "metadata": {
        "colab": {
          "base_uri": "https://localhost:8080/"
        },
        "id": "D1-0muJbp9n8",
        "outputId": "c6a10029-de93-49c5-a470-371f600aca94"
      },
      "source": [
        "#Otra forma de llamar a los módulos:\r\n",
        "\r\n",
        "import statistics\r\n",
        "Promedio_3= statistics.mean(D)\r\n",
        "Promedio_3\r\n"
      ],
      "execution_count": null,
      "outputs": [
        {
          "output_type": "execute_result",
          "data": {
            "text/plain": [
              "5.5"
            ]
          },
          "metadata": {
            "tags": []
          },
          "execution_count": 49
        }
      ]
    },
    {
      "cell_type": "markdown",
      "metadata": {
        "id": "GfQ18RUhqYj7"
      },
      "source": [
        "#Listas con strings"
      ]
    },
    {
      "cell_type": "code",
      "metadata": {
        "colab": {
          "base_uri": "https://localhost:8080/"
        },
        "id": "egbftHvWqaYP",
        "outputId": "63ffc4b7-2344-446a-bc92-8d1228e9b94e"
      },
      "source": [
        "Strings = [\"abc\" , \"def\", \"ghi\", \"jkl\"]\r\n",
        "print(Strings[3][2])"
      ],
      "execution_count": null,
      "outputs": [
        {
          "output_type": "stream",
          "text": [
            "l\n"
          ],
          "name": "stdout"
        }
      ]
    },
    {
      "cell_type": "code",
      "metadata": {
        "colab": {
          "base_uri": "https://localhost:8080/"
        },
        "id": "nSNXFx5jqv4R",
        "outputId": "524cc030-a3a1-4219-9406-58a6c3646d27"
      },
      "source": [
        "Longitud = len(Strings)\r\n",
        "Longitud"
      ],
      "execution_count": null,
      "outputs": [
        {
          "output_type": "execute_result",
          "data": {
            "text/plain": [
              "4"
            ]
          },
          "metadata": {
            "tags": []
          },
          "execution_count": 56
        }
      ]
    },
    {
      "cell_type": "code",
      "metadata": {
        "colab": {
          "base_uri": "https://localhost:8080/"
        },
        "id": "kUOC3R-Rq08f",
        "outputId": "9ddee7f2-088b-4f81-da16-7dfb4cbbb1a2"
      },
      "source": [
        "print(Strings[2][0:2])"
      ],
      "execution_count": null,
      "outputs": [
        {
          "output_type": "stream",
          "text": [
            "gh\n"
          ],
          "name": "stdout"
        }
      ]
    },
    {
      "cell_type": "markdown",
      "metadata": {
        "id": "titCCoUTrIiC"
      },
      "source": [
        "#Diccionarios"
      ]
    },
    {
      "cell_type": "code",
      "metadata": {
        "id": "_LFTbOnYrKIp"
      },
      "source": [
        "Datos_alumno={\r\n",
        "    \"Nombre\": \"Octavio\",\r\n",
        "    \"Apellido\": \"Paz\",\r\n",
        "    \"Matrícula\": \"123456\",\r\n",
        "    \"Horario\": \"Matutino\",\r\n",
        "    \"Beca\": \"Si\"\r\n",
        "}"
      ],
      "execution_count": null,
      "outputs": []
    },
    {
      "cell_type": "code",
      "metadata": {
        "colab": {
          "base_uri": "https://localhost:8080/"
        },
        "id": "BE1rTOq2rnFa",
        "outputId": "ff6a9dfe-9701-4e4c-e95f-c01450f63a3e"
      },
      "source": [
        "print(Datos_alumno[\"Matrícula\"])\r\n",
        "print(Datos_alumno[\"Apellido\"])\r\n",
        "print(Datos_alumno[\"Beca\"])"
      ],
      "execution_count": null,
      "outputs": [
        {
          "output_type": "stream",
          "text": [
            "123456\n",
            "Paz\n",
            "Si\n"
          ],
          "name": "stdout"
        }
      ]
    },
    {
      "cell_type": "code",
      "metadata": {
        "id": "zDrgdAjgr1wI"
      },
      "source": [
        "#Agregar datos a un diccionario\r\n",
        "\r\n",
        "Datos_alumno.update({\"Materias\": [\"Física\", \"Química\", \"Programación\"]})"
      ],
      "execution_count": null,
      "outputs": []
    },
    {
      "cell_type": "code",
      "metadata": {
        "colab": {
          "base_uri": "https://localhost:8080/"
        },
        "id": "mTv6QaW-sHeh",
        "outputId": "01f043d4-1d53-4c29-c2c3-35fc936c9a5a"
      },
      "source": [
        "Datos_alumno"
      ],
      "execution_count": null,
      "outputs": [
        {
          "output_type": "execute_result",
          "data": {
            "text/plain": [
              "{'Apellido': 'Paz',\n",
              " 'Beca': 'Si',\n",
              " 'Horario': 'Matutino',\n",
              " 'Materias': {'Física', 'Programación', 'Química'},\n",
              " 'Matrícula': '123456',\n",
              " 'Nombre': 'Octavio'}"
            ]
          },
          "metadata": {
            "tags": []
          },
          "execution_count": 70
        }
      ]
    },
    {
      "cell_type": "code",
      "metadata": {
        "colab": {
          "base_uri": "https://localhost:8080/"
        },
        "id": "FN7bxY81sJRO",
        "outputId": "da41d713-6015-41e1-c163-5fbf1988795b"
      },
      "source": [
        "print(Datos_alumno['Materias'])\r\n",
        "print(Datos_alumno['Materias'][0:2])"
      ],
      "execution_count": null,
      "outputs": [
        {
          "output_type": "stream",
          "text": [
            "['Física', 'Química', 'Programación']\n",
            "['Física', 'Química']\n"
          ],
          "name": "stdout"
        }
      ]
    },
    {
      "cell_type": "markdown",
      "metadata": {
        "id": "mIOSijwIuora"
      },
      "source": [
        "#Diccionarios anidados"
      ]
    },
    {
      "cell_type": "code",
      "metadata": {
        "id": "tb3guOEvur7s"
      },
      "source": [
        "Pacientes = [\r\n",
        "    {\r\n",
        "     'Nombre':'Juan',\r\n",
        "     'Seguro':'Si',\r\n",
        "     'ID_seguro':'987654321',\r\n",
        "     'Covid':'Si',\r\n",
        "     'G_sanguineo':'AB+'\r\n",
        "    },\r\n",
        "\r\n",
        "    {\r\n",
        "     'Nombre':'Maria',\r\n",
        "     'Seguro':'Si',\r\n",
        "     'ID_seguro':'123456789',\r\n",
        "     'Covid':'No',\r\n",
        "     'G_sanguineo':'A+'\r\n",
        "    },\r\n",
        "\r\n",
        "    {\r\n",
        "     'Nombre':'Ernesto',\r\n",
        "     'Seguro':'No',\r\n",
        "     'ID_seguro':'N/A',\r\n",
        "     'Covid':'No',\r\n",
        "     'G_sanguineo':'B+',\r\n",
        "    }\r\n",
        "]"
      ],
      "execution_count": 44,
      "outputs": []
    },
    {
      "cell_type": "code",
      "metadata": {
        "colab": {
          "base_uri": "https://localhost:8080/"
        },
        "id": "ANtDhDqrvQtE",
        "outputId": "ec13f9fa-8dd8-45e0-a941-8d747cf6d81f"
      },
      "source": [
        "print(Pacientes [1]['Nombre'])\r\n",
        "print(Pacientes [1]['Seguro'])\r\n",
        "print(Pacientes [1]['ID_seguro'])"
      ],
      "execution_count": null,
      "outputs": [
        {
          "output_type": "stream",
          "text": [
            "Maria\n",
            "Si\n",
            "123456789\n"
          ],
          "name": "stdout"
        }
      ]
    },
    {
      "cell_type": "code",
      "metadata": {
        "colab": {
          "base_uri": "https://localhost:8080/"
        },
        "id": "BJB8KlADvjZA",
        "outputId": "9c363092-9abe-417c-ca45-ef07bf8e002f"
      },
      "source": [
        "print(Pacientes [2]['Seguro'])\r\n",
        "print(Pacientes [2]['Covid'])\r\n",
        "print(Pacientes [2]['G_sanguineo'])"
      ],
      "execution_count": null,
      "outputs": [
        {
          "output_type": "stream",
          "text": [
            "No\n",
            "No\n",
            "B+\n"
          ],
          "name": "stdout"
        }
      ]
    },
    {
      "cell_type": "code",
      "metadata": {
        "colab": {
          "base_uri": "https://localhost:8080/"
        },
        "id": "EISaZ-8Gww4O",
        "outputId": "e946734f-f3f3-4115-eb33-1bac98b5b0c7"
      },
      "source": [
        "print(Pacientes [0]['G_sanguineo'])"
      ],
      "execution_count": null,
      "outputs": [
        {
          "output_type": "stream",
          "text": [
            "AB+\n"
          ],
          "name": "stdout"
        }
      ]
    },
    {
      "cell_type": "code",
      "metadata": {
        "colab": {
          "base_uri": "https://localhost:8080/"
        },
        "id": "jq8NaZqBc2lc",
        "outputId": "2e8689e8-e379-41a6-c4d2-b4707afe1dd6"
      },
      "source": [
        "print(Pacientes)"
      ],
      "execution_count": 45,
      "outputs": [
        {
          "output_type": "stream",
          "text": [
            "[{'Nombre': 'Juan', 'Seguro': 'Si', 'ID_seguro': '987654321', 'Covid': 'Si', 'G_sanguineo': 'AB+'}, {'Nombre': 'Maria', 'Seguro': 'Si', 'ID_seguro': '123456789', 'Covid': 'No', 'G_sanguineo': 'A+'}, {'Nombre': 'Ernesto', 'Seguro': 'No', 'ID_seguro': 'N/A', 'Covid': 'No', 'G_sanguineo': 'B+'}]\n"
          ],
          "name": "stdout"
        }
      ]
    },
    {
      "cell_type": "markdown",
      "metadata": {
        "id": "JDZxOxf0xIiS"
      },
      "source": [
        "#Tarea\r\n",
        "\r\n",
        "\r\n",
        "\r\n",
        "*   Anidar diccionarios (mínimo 2).\r\n",
        "* Que el programa solicite que teclees el valor de las variables, (usar el método de input())\r\n",
        "* Si ingresas enteros o flotantes, que los convierta a su tipo correspondiente (usar entonces int() o float())\r\n",
        "* Luego estas se agreguen al diccionario con el métod update() Si tienes alguna duda o comentario, no dudes en dejarlo en el Issue asociado a la Clase 03. \r\n",
        "* Recuerda revisar las clases anteriores si las dudas persisten. ¡Mucha suerte! (En el caso de que surgieran muchas dudas, se colocará un ejemplo de cómo se debío haber resulto esta tarea.)\r\n",
        "\r\n",
        "\r\n",
        "\r\n",
        "\r\n"
      ]
    },
    {
      "cell_type": "code",
      "metadata": {
        "id": "DAJV3lJIxZm8",
        "colab": {
          "base_uri": "https://localhost:8080/"
        },
        "outputId": "913b7107-5afc-4161-9bab-8f55ad94a710"
      },
      "source": [
        "\r\n",
        "Autos=[\r\n",
        "       {\r\n",
        "           \"Placas\" : \" \",\r\n",
        "           \"Modelo\" : \" \",\r\n",
        "           \"Año\" : \" \",\r\n",
        "           \"Multa\" : \" \",\r\n",
        "       },\r\n",
        "       {\r\n",
        "           \"Placas\" : \" \",\r\n",
        "           \"Modelo\" : \" \",\r\n",
        "           \"Año\" : \" \",\r\n",
        "           \"Multa\" : \" \",\r\n",
        "       }\r\n",
        "]\r\n",
        "\r\n",
        "placa_1=input(\"Placa Auto #1: \")\r\n",
        "mod_1=input(\"Modelo Auto #1: \")\r\n",
        "año_1=input(\"Año Auto #1: \")\r\n",
        "multa_1=float(input(\"Multa Auto #1: $\"))\r\n",
        "print(\"\\n\")\r\n",
        "placa_2=input(\"Placa Auto #2: \")\r\n",
        "mod_2=input(\"Modelo Auto #2: \")\r\n",
        "año_2=input(\"Año Auto #2: \")\r\n",
        "multa_2=float(input(\"Multa Auto #2: $\"))"
      ],
      "execution_count": 52,
      "outputs": [
        {
          "output_type": "stream",
          "text": [
            "Placa Auto #1: gto7\n",
            "Modelo Auto #1: chevy\n",
            "Año Auto #1: 2021\n",
            "Multa Auto #1: $150\n",
            "\n",
            "\n",
            "Placa Auto #2: qro5\n",
            "Modelo Auto #2: beat\n",
            "Año Auto #2: 2018\n",
            "Multa Auto #2: $500\n"
          ],
          "name": "stdout"
        }
      ]
    },
    {
      "cell_type": "code",
      "metadata": {
        "id": "OBfVDTz2YrFs"
      },
      "source": [
        "#Agregar datos al diccionario Autos\r\n",
        "\r\n",
        "Autos[0].update({\"Placas\": placa_1})\r\n",
        "Autos[0].update({\"Modelo\": mod_1})\r\n",
        "Autos[0].update({\"Año\": año_1})\r\n",
        "Autos[0].update({\"Multa\": multa_1})\r\n",
        "\r\n",
        "Autos[1].update({\"Placas\": placa_2})\r\n",
        "Autos[1].update({\"Modelo\": mod_2})\r\n",
        "Autos[1].update({\"Año\": año_2})\r\n",
        "Autos[1].update({\"Multa\": multa_2})"
      ],
      "execution_count": 53,
      "outputs": []
    },
    {
      "cell_type": "code",
      "metadata": {
        "colab": {
          "base_uri": "https://localhost:8080/"
        },
        "id": "Mr6M3MS1Vc6B",
        "outputId": "7735d053-16fb-409f-ff47-a8cad718581e"
      },
      "source": [
        "print(Autos[0][\"Multa\"])"
      ],
      "execution_count": 56,
      "outputs": [
        {
          "output_type": "stream",
          "text": [
            "150.0\n"
          ],
          "name": "stdout"
        }
      ]
    }
  ]
}