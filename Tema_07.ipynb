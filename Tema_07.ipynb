{
  "nbformat": 4,
  "nbformat_minor": 0,
  "metadata": {
    "colab": {
      "name": "Tema_07ipynb",
      "provenance": [],
      "authorship_tag": "ABX9TyMzgLkeBnkOy+7fxKXAlydx",
      "include_colab_link": true
    },
    "kernelspec": {
      "name": "python3",
      "display_name": "Python 3"
    }
  },
  "cells": [
    {
      "cell_type": "markdown",
      "metadata": {
        "id": "view-in-github",
        "colab_type": "text"
      },
      "source": [
        "<a href=\"https://colab.research.google.com/github/sofvarela10/Repo_Curso_Python/blob/main/Tema_07.ipynb\" target=\"_parent\"><img src=\"https://colab.research.google.com/assets/colab-badge.svg\" alt=\"Open In Colab\"/></a>"
      ]
    },
    {
      "cell_type": "markdown",
      "metadata": {
        "id": "VXirBFrpaCRf"
      },
      "source": [
        "#Condicionales"
      ]
    },
    {
      "cell_type": "code",
      "metadata": {
        "colab": {
          "base_uri": "https://localhost:8080/"
        },
        "id": "KYNBPmjJaGAc",
        "outputId": "f2f5af1d-039a-4f56-edc0-738e98076e01"
      },
      "source": [
        "print(\"Bienvenido a club pingüin\")\r\n",
        "print(\" \")\r\n",
        "\r\n",
        "edad = 19\r\n",
        "print(\"Tienes \" + str(edad) + \" años\")\r\n",
        "\r\n",
        "if edad <= 18:                                 # RECUERDA LOS OPERADORES \r\n",
        "  print(\"Necesitas permiso de tus padres\")\r\n",
        "else: \r\n",
        "  print(\"Crear cuenta\")\r\n",
        "\r\n",
        "# INTENTA CAMBIAR EL VALOR DE EDAD Y LA CONDICIÓN VARIAS VECES PARA VER QUÉ SUCEDE"
      ],
      "execution_count": 6,
      "outputs": [
        {
          "output_type": "stream",
          "text": [
            "Bienvenido a club pingüin\n",
            " \n",
            "Tienes 19 años\n",
            "Crear cuenta\n"
          ],
          "name": "stdout"
        }
      ]
    },
    {
      "cell_type": "code",
      "metadata": {
        "colab": {
          "base_uri": "https://localhost:8080/"
        },
        "id": "N4of-7r2aLZF",
        "outputId": "45b84e1a-f3e7-4ede-a44f-bb50e9dde6bf"
      },
      "source": [
        "cal = 8\r\n",
        "\r\n",
        "if cal == 7:\r\n",
        "  print (\"Felicidades pero puedes mejorar\")\r\n",
        "elif cal == 8:\r\n",
        "  print (\"Felicidades estás más cerca del 10\")\r\n",
        "elif cal == 8:\r\n",
        "  print (\"Felicidades falta un punto para el 10\")  \r\n",
        "elif cal == 8:\r\n",
        "  print (\"Felicidades tienes 10\")\r\n",
        "else: \r\n",
        "  print (\"Suerte para la próxima\")"
      ],
      "execution_count": 10,
      "outputs": [
        {
          "output_type": "stream",
          "text": [
            "Felicidades estás más cerca del 10\n"
          ],
          "name": "stdout"
        }
      ]
    },
    {
      "cell_type": "code",
      "metadata": {
        "colab": {
          "base_uri": "https://localhost:8080/"
        },
        "id": "L6JAIzGgfRS_",
        "outputId": "cc8fa3f9-b273-4a18-d076-b9aa59801c7e"
      },
      "source": [
        "Cámara = True\r\n",
        "Micrófono = False\r\n",
        "\r\n",
        "if Cámara == True or Micrófono == True:\r\n",
        "  print(\"Puedes grabar\")\r\n",
        "else:\r\n",
        "    print(\"No puedes grabar\")"
      ],
      "execution_count": 13,
      "outputs": [
        {
          "output_type": "stream",
          "text": [
            "Puedes grabar\n"
          ],
          "name": "stdout"
        }
      ]
    },
    {
      "cell_type": "code",
      "metadata": {
        "colab": {
          "base_uri": "https://localhost:8080/"
        },
        "id": "T4TnuXE-fjgq",
        "outputId": "15f1973d-3bd8-4e58-b4a4-d582b506cd6c"
      },
      "source": [
        "Carne = \"Doble triple\"\r\n",
        "Salsa = \"De Coral\"\r\n",
        "Decorado = \"De lujo\"\r\n",
        "Estilo = \"Animal\"\r\n",
        "Guijarros = \"Extra\"\r\n",
        "Vibración = \"Exprimida\"\r\n",
        "Eje = \"Con grasa ligera\"\r\n",
        "Hazlo = \"Llorar\"\r\n",
        "Quémalo = \"Sí\"\r\n",
        "Nadando = \"Sí\"\r\n",
        "Pepinillos = \"Sí\"\r\n",
        "\r\n",
        "\r\n",
        "if (Carne == \"Doble triple\" and \r\n",
        "Salsa == \"De Coral\" and\r\n",
        "Decorado == \"De lujo\" and\r\n",
        "Estilo == \"Animal\" and \r\n",
        "Guijarros == \"Extra\" and\r\n",
        "Vibración == \"Exprimida\" and\r\n",
        "Eje == \"Con grasa ligera\" and \r\n",
        "Hazlo == \"Llorar\" and\r\n",
        "Quémalo == \"Sí\" and\r\n",
        "Nadando == \"Sí\" and\r\n",
        "Pepinillos == \"No\"):\r\n",
        "  print(\"Quiere la kangreburguer\")\r\n",
        "else:\r\n",
        "  print(\"No quiere la kangreburger\")"
      ],
      "execution_count": 26,
      "outputs": [
        {
          "output_type": "stream",
          "text": [
            "No quiere la kangreburger\n"
          ],
          "name": "stdout"
        }
      ]
    },
    {
      "cell_type": "code",
      "metadata": {
        "colab": {
          "base_uri": "https://localhost:8080/"
        },
        "id": "KvhQX6ISgfmh",
        "outputId": "559e685a-e020-481e-cca7-aaa90e7c148b"
      },
      "source": [
        "# Variación del anterior código con valores booleanos\r\n",
        "\r\n",
        "Carne_doble_triple = True\r\n",
        "Salsa_de_coral = True \r\n",
        "Decorado_de_lujo = True\r\n",
        "Estilo_animal = True \r\n",
        "Guijarros_extra = True\r\n",
        "Vibración_exprimida = True\r\n",
        "Eje_con_grasa_ligera = True\r\n",
        "Hazlo_llorar = True\r\n",
        "Quemado = True \r\n",
        "Nadando = True\r\n",
        "Pepinillos = True\r\n",
        "\r\n",
        "\r\n",
        "if (Carne_doble_triple and \r\n",
        "Salsa_de_coral and\r\n",
        "Decorado_de_lujo and\r\n",
        "Estilo_animal and \r\n",
        "Guijarros_extra and\r\n",
        "Vibración_exprimida and\r\n",
        "Eje_con_grasa_ligera and \r\n",
        "Hazlo_llorar and\r\n",
        "Quemado and\r\n",
        "Nadando and\r\n",
        "Pepinillos ):\r\n",
        "  print(\"Quiere la kangreburguer\")\r\n",
        "else:\r\n",
        "  print(\"No quiere la kangrebuger\")"
      ],
      "execution_count": 18,
      "outputs": [
        {
          "output_type": "stream",
          "text": [
            "Quiere la kangreburguer\n"
          ],
          "name": "stdout"
        }
      ]
    },
    {
      "cell_type": "code",
      "metadata": {
        "id": "VnKPgrZvghfI"
      },
      "source": [
        ""
      ],
      "execution_count": null,
      "outputs": []
    },
    {
      "cell_type": "markdown",
      "metadata": {
        "id": "0A24MGQYgkHA"
      },
      "source": [
        "#Tarea\r\n",
        "\r\n",
        "Para la tarea debes copiar el código anterior,\r\n",
        "cambiar el condicional de tal manera que ahora\r\n",
        "solo una condición debe ser verdadera para que se\r\n",
        "ejecute el primer print\r\n"
      ]
    },
    {
      "cell_type": "code",
      "metadata": {
        "colab": {
          "base_uri": "https://localhost:8080/"
        },
        "id": "OsNehMBJgmVq",
        "outputId": "1b5f9061-d82f-4724-8fa2-82036e496648"
      },
      "source": [
        "Carne = \"Doble triple\"\r\n",
        "Salsa = \"De Coral\"\r\n",
        "Decorado = \"De lujo\"\r\n",
        "Estilo = \"Animal\"\r\n",
        "Guijarros = \"Extra\"\r\n",
        "Vibración = \"Exprimida\"\r\n",
        "Eje = \"Con grasa ligera\"\r\n",
        "Hazlo = \"Llorar\"\r\n",
        "Quémalo = \"Sí\"\r\n",
        "Nadando = \"Sí\"\r\n",
        "Pepinillos = \"Sí\"\r\n",
        "\r\n",
        "\r\n",
        "if (Carne == \"Doble triple\" or \r\n",
        "Salsa == \"De Coral\" or\r\n",
        "Decorado == \"De lujo\" or\r\n",
        "Estilo == \"Animal\" or \r\n",
        "Guijarros == \"Extra\" or\r\n",
        "Vibración == \"Exprimida\" or\r\n",
        "Eje == \"Con grasa ligera\" or \r\n",
        "Hazlo == \"Llorar\" or\r\n",
        "Quémalo == \"Sí\" or\r\n",
        "Nadando == \"Sí\" or\r\n",
        "Pepinillos == \"No\"):\r\n",
        "  print(\"Quiere la kangreburguer\")\r\n",
        "else:\r\n",
        "  print(\"No quiere la kangreburger\")"
      ],
      "execution_count": 23,
      "outputs": [
        {
          "output_type": "stream",
          "text": [
            "Quiere la kangreburguer\n"
          ],
          "name": "stdout"
        }
      ]
    }
  ]
}