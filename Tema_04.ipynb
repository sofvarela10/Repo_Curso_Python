{
  "nbformat": 4,
  "nbformat_minor": 0,
  "metadata": {
    "colab": {
      "name": "Tema_04.ipynb",
      "provenance": [],
      "authorship_tag": "ABX9TyOdp8H9p+Dl9BLklbFBg4YI",
      "include_colab_link": true
    },
    "kernelspec": {
      "name": "python3",
      "display_name": "Python 3"
    }
  },
  "cells": [
    {
      "cell_type": "markdown",
      "metadata": {
        "id": "view-in-github",
        "colab_type": "text"
      },
      "source": [
        "<a href=\"https://colab.research.google.com/github/sofvarela10/Repo_Curso_Python/blob/main/Tema_04.ipynb\" target=\"_parent\"><img src=\"https://colab.research.google.com/assets/colab-badge.svg\" alt=\"Open In Colab\"/></a>"
      ]
    },
    {
      "cell_type": "markdown",
      "metadata": {
        "id": "9h8VlKsMHoTs"
      },
      "source": [
        "Conversión de datos"
      ]
    },
    {
      "cell_type": "code",
      "metadata": {
        "colab": {
          "base_uri": "https://localhost:8080/",
          "height": 212
        },
        "id": "chgDGi3MHjfN",
        "outputId": "e375097d-f58a-4a43-eb6b-510d43684d7f"
      },
      "source": [
        "a=3\r\n",
        "b=\"12\"\r\n",
        "c= a + b\r\n",
        "print (c)\r\n"
      ],
      "execution_count": 9,
      "outputs": [
        {
          "output_type": "error",
          "ename": "TypeError",
          "evalue": "ignored",
          "traceback": [
            "\u001b[0;31m---------------------------------------------------------------------------\u001b[0m",
            "\u001b[0;31mTypeError\u001b[0m                                 Traceback (most recent call last)",
            "\u001b[0;32m<ipython-input-9-3199006c4ded>\u001b[0m in \u001b[0;36m<module>\u001b[0;34m()\u001b[0m\n\u001b[1;32m      1\u001b[0m \u001b[0ma\u001b[0m\u001b[0;34m=\u001b[0m\u001b[0;36m3\u001b[0m\u001b[0;34m\u001b[0m\u001b[0;34m\u001b[0m\u001b[0m\n\u001b[1;32m      2\u001b[0m \u001b[0mb\u001b[0m\u001b[0;34m=\u001b[0m\u001b[0;34m\"12\"\u001b[0m\u001b[0;34m\u001b[0m\u001b[0;34m\u001b[0m\u001b[0m\n\u001b[0;32m----> 3\u001b[0;31m \u001b[0mc\u001b[0m\u001b[0;34m=\u001b[0m \u001b[0ma\u001b[0m \u001b[0;34m+\u001b[0m \u001b[0mb\u001b[0m\u001b[0;34m\u001b[0m\u001b[0;34m\u001b[0m\u001b[0m\n\u001b[0m\u001b[1;32m      4\u001b[0m \u001b[0mprint\u001b[0m \u001b[0;34m(\u001b[0m\u001b[0mc\u001b[0m\u001b[0;34m)\u001b[0m\u001b[0;34m\u001b[0m\u001b[0;34m\u001b[0m\u001b[0m\n",
            "\u001b[0;31mTypeError\u001b[0m: unsupported operand type(s) for +: 'int' and 'str'"
          ]
        }
      ]
    },
    {
      "cell_type": "code",
      "metadata": {
        "colab": {
          "base_uri": "https://localhost:8080/"
        },
        "id": "WjC3Jf2IJJwm",
        "outputId": "1ac7c8ae-34cc-4a0e-b263-3718b6f9bb1b"
      },
      "source": [
        "#String a entero\r\n",
        "r= \"12\"\r\n",
        "print(type(r))\r\n",
        "\r\n",
        "s=int(r)\r\n",
        "print(type(s))\r\n",
        "\r\n",
        "r=int(r)\r\n",
        "print(type(r))\r\n",
        "\r\n",
        "x= r+2\r\n",
        "print(x)"
      ],
      "execution_count": 14,
      "outputs": [
        {
          "output_type": "stream",
          "text": [
            "<class 'str'>\n",
            "<class 'int'>\n",
            "<class 'int'>\n",
            "14\n"
          ],
          "name": "stdout"
        }
      ]
    },
    {
      "cell_type": "code",
      "metadata": {
        "colab": {
          "base_uri": "https://localhost:8080/"
        },
        "id": "L64DcyicKpEu",
        "outputId": "4b9b0c2e-7664-4d40-c265-90ee88d2db89"
      },
      "source": [
        "#Entero a string\r\n",
        "r=12\r\n",
        "print(type(r))\r\n",
        "\r\n",
        "r=str(r)\r\n",
        "print(type(r))\r\n",
        "\r\n",
        "s=\"Número: \" + r\r\n",
        "print(s)"
      ],
      "execution_count": 17,
      "outputs": [
        {
          "output_type": "stream",
          "text": [
            "<class 'int'>\n",
            "<class 'str'>\n",
            "Número: 12\n"
          ],
          "name": "stdout"
        }
      ]
    },
    {
      "cell_type": "code",
      "metadata": {
        "colab": {
          "base_uri": "https://localhost:8080/"
        },
        "id": "1eT9AizgLCyB",
        "outputId": "5a196cdb-28fe-4110-e676-4371d51d66b2"
      },
      "source": [
        "#String a flotante\r\n",
        "r= \"12.7\"\r\n",
        "print(type(r))\r\n",
        "\r\n",
        "r=float(r)\r\n",
        "print(type(r))\r\n",
        "\r\n",
        "x= r+2\r\n",
        "print(x)"
      ],
      "execution_count": 19,
      "outputs": [
        {
          "output_type": "stream",
          "text": [
            "<class 'str'>\n",
            "<class 'float'>\n",
            "14.7\n"
          ],
          "name": "stdout"
        }
      ]
    },
    {
      "cell_type": "code",
      "metadata": {
        "colab": {
          "base_uri": "https://localhost:8080/"
        },
        "id": "ERp8JIL6LQ69",
        "outputId": "ac743123-9d2c-43e7-9acb-d8a487cdf401"
      },
      "source": [
        "#Flotante a string\r\n",
        "r= 12.7\r\n",
        "print(type(r))\r\n",
        "\r\n",
        "r=str(r)\r\n",
        "print(type(r))\r\n",
        "\r\n",
        "s=\"Número: \" + r\r\n",
        "print(s)"
      ],
      "execution_count": 21,
      "outputs": [
        {
          "output_type": "stream",
          "text": [
            "<class 'float'>\n",
            "<class 'str'>\n",
            "Número: 12.7\n"
          ],
          "name": "stdout"
        }
      ]
    },
    {
      "cell_type": "code",
      "metadata": {
        "colab": {
          "base_uri": "https://localhost:8080/"
        },
        "id": "culJJbinLrsD",
        "outputId": "61a0132f-fbb5-4ff3-ee09-9e04e8bb45d5"
      },
      "source": [
        "Edad= input(\"Introduce tu edad: \")\r\n",
        "print(type(Edad))\r\n",
        "\r\n",
        "#Convertimos a flotante\r\n",
        "Edad_num=float(Edad)\r\n",
        "print(type(Edad_num))\r\n",
        "print(Edad_num)\r\n"
      ],
      "execution_count": 26,
      "outputs": [
        {
          "output_type": "stream",
          "text": [
            "Introduce tu edad: 21\n",
            "<class 'str'>\n",
            "<class 'float'>\n",
            "21.0\n"
          ],
          "name": "stdout"
        }
      ]
    },
    {
      "cell_type": "code",
      "metadata": {
        "colab": {
          "base_uri": "https://localhost:8080/"
        },
        "id": "dRfU_5BbMsQP",
        "outputId": "ebb27ea1-6c65-43fa-b5f5-35728e3e20f9"
      },
      "source": [
        "#De manera más compacta:\r\n",
        "\r\n",
        "Edad= float(input(\"Introduce tu edad: \"))\r\n",
        "print(type(Edad))\r\n",
        "\r\n",
        "Edad_nueva=Edad*2-2\r\n",
        "print (Edad_nueva)"
      ],
      "execution_count": 29,
      "outputs": [
        {
          "output_type": "stream",
          "text": [
            "Introduce tu edad: 20\n",
            "<class 'float'>\n",
            "38.0\n"
          ],
          "name": "stdout"
        }
      ]
    }
  ]
}